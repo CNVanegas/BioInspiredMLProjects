{
 "cells": [
  {
   "cell_type": "markdown",
   "metadata": {
    "id": "L7ymosx033Ge"
   },
   "source": [
    "Import python packages to be used"
   ]
  },
  {
   "cell_type": "code",
   "execution_count": 22,
   "metadata": {
    "id": "tHwhbwgP3zAN"
   },
   "outputs": [],
   "source": [
    "import random, numpy as np, math, copy, matplotlib.pyplot as plt\n",
    "import pandas as pd\n",
    "from scipy.spatial import distance_matrix\n",
    "#from google.colab import files\n",
    "from tqdm import tqdm\n",
    "from numba import njit, prange\n",
    "from numba.typed import List"
   ]
  },
  {
   "cell_type": "markdown",
   "metadata": {
    "id": "U7dGpzP64AdK"
   },
   "source": [
    "Create a list of random cities to be used as the dataset for TSP"
   ]
  },
  {
   "cell_type": "code",
   "execution_count": 2,
   "metadata": {
    "colab": {
     "base_uri": "https://localhost:8080/"
    },
    "id": "CoTRuTDAfr7r",
    "outputId": "c7b912e3-5019-468b-c935-e0b2395b12bc"
   },
   "outputs": [
    {
     "name": "stdout",
     "output_type": "stream",
     "text": [
      "[[91, 37], [43, 95], [82, 76], [58, 92], [90, 9], [80, 18], [64, 16], [69, 10], [54, 66], [58, 4], [19, 13], [41, 49], [11, 56], [36, 62], [68, 23], [5, 27], [86, 9], [14, 24], [50, 20], [2, 9], [10, 41], [75, 43], [47, 21], [83, 10], [1, 68], [37, 20], [84, 35], [41, 33], [30, 89], [79, 12], [12, 61], [90, 16], [35, 0], [54, 74], [93, 67], [19, 24], [24, 22], [31, 50], [48, 32], [46, 33], [59, 32], [30, 17], [54, 26], [73, 88], [12, 59], [62, 88], [3, 65], [97, 69], [48, 97], [2, 93]]\n",
      "[[  0.          75.2861209   40.02499219 ...  32.55764119  73.81734214\n",
      "  105.15227054]\n",
      " [ 75.2861209    0.          43.38202393 ...  59.93329626   5.38516481\n",
      "   41.0487515 ]\n",
      " [ 40.02499219  43.38202393   0.         ...  16.55294536  39.96248241\n",
      "   81.78630692]\n",
      " ...\n",
      " [ 32.55764119  59.93329626  16.55294536 ...   0.          56.43580424\n",
      "   97.98469268]\n",
      " [ 73.81734214   5.38516481  39.96248241 ...  56.43580424   0.\n",
      "   46.17358552]\n",
      " [105.15227054  41.0487515   81.78630692 ...  97.98469268  46.17358552\n",
      "    0.        ]]\n"
     ]
    }
   ],
   "source": [
    "\n",
    "#create list of 50 random cities. Probably need to make this a 2d array with an x,y component. \n",
    "cities = [random.sample(range(100), 2) for x in range(50)];\n",
    "print(cities)\n",
    "\n",
    "#tour = random.sample(range(50),50);\n",
    "#print(tour) some edit here by NB\n",
    "\n",
    "#Generate a distance matrix from the list of 50 cities\n",
    "df = pd.DataFrame(cities, columns=['xcord', 'ycord'])\n",
    "cities_distance_matrix = distance_matrix(df.values, df.values)\n",
    "#cities_distance_matrix2 = distance_matrix()\n",
    "\n",
    "#Randomly select a city to start at for both algorithms\n",
    "root = random.randint(0,49) #Randomly select one vertex as the root.\n",
    "print(cities_distance_matrix)"
   ]
  },
  {
   "cell_type": "markdown",
   "metadata": {
    "id": "i_y5ca8yEHfk"
   },
   "source": [
    "Update Methods: \n",
    "\n",
    "*   as_pheroupdate: Ant System Update, S*upd* <- S*iter*\n",
    "*   ib_pheroupdate: Iteration Best Update, S*upd* <- arg max F(s) (to avoid premature converence, best 10(?) will be used)\n",
    "\n"
   ]
  },
  {
   "cell_type": "code",
   "execution_count": 3,
   "metadata": {
    "id": "nJXhJZtrDcXL"
   },
   "outputs": [],
   "source": [
    "#Ant System Update\n",
    "@njit\n",
    "def as_pheroupdate(pheromone_maxtix,s_iter,total_list):\n",
    "   for index in range(len(total_list)):\n",
    "    #print(s_iter[index])\n",
    "    for jdex in range(len(s_iter[index])-1):\n",
    "      x = s_iter[index][jdex]\n",
    "      y = s_iter[index][jdex+1]\n",
    "      pheromone_maxtix[x][y] += 1/total_list[index]"
   ]
  },
  {
   "cell_type": "code",
   "execution_count": 4,
   "metadata": {
    "id": "_epvx3uOE-oy"
   },
   "outputs": [],
   "source": [
    "#Iteration Best Update\n",
    "@njit\n",
    "def ib_pheroupdate(pheromone_maxtix,s_iter,total_list):\n",
    "  sort_index = np.argsort(np.asarray(total_list))\n",
    "  #print(sort_index)\n",
    "  #print(np.sort(vals))\n",
    "  for index in range(10):\n",
    "    for jdex in range(len(s_iter[index])-1):\n",
    "      x = s_iter[sort_index[index]][jdex]\n",
    "      y = s_iter[sort_index[index]][jdex+1]\n",
    "      pheromone_maxtix[x][y] += 1/total_list[sort_index[index]]"
   ]
  },
  {
   "cell_type": "code",
   "execution_count": 5,
   "metadata": {},
   "outputs": [],
   "source": [
    "@njit\n",
    "def delete_workaround(arr, num):\n",
    "    mask = np.zeros(arr.shape[0], dtype=np.int64) == 0\n",
    "    mask[np.where(arr == num)[0]] = False\n",
    "    return arr[mask]\n"
   ]
  },
  {
   "cell_type": "markdown",
   "metadata": {
    "id": "-0ZHCGvGh_3J"
   },
   "source": [
    "Ant Colony Optimization using adjacency matrices"
   ]
  },
  {
   "cell_type": "code",
   "execution_count": 87,
   "metadata": {
    "id": "utNnrXiR4NvX"
   },
   "outputs": [],
   "source": [
    "#Start of ACO algo\n",
    "\n",
    "\n",
    "@njit\n",
    "def aco_func(pheromone_maxtix,ants,alpha,beta,update_func):\n",
    "  s_iter = List()\n",
    "  total_list = List()\n",
    "  \n",
    "  for i in prange(ants):\n",
    "    total = 0.0;\n",
    "    currentlocation = root\n",
    "    s = List()\n",
    "    s.append(root)\n",
    "    canVisit = np.arange(50)\n",
    "    #canVisit = np.delete(canVisit, np.argwhere(canVisit == currentlocation))\n",
    "    canVisit = delete_workaround(canVisit, currentlocation)\n",
    "    #print(\"start\")\n",
    "    while len(canVisit) !=0:\n",
    "      probSum = 0\n",
    "      probList = list()\n",
    "      for value in canVisit:\n",
    "        prob = (pheromone_maxtix[currentlocation][value] ** alpha) * ((1/cities_distance_matrix[currentlocation][value]) ** beta)\n",
    "        probSum += prob\n",
    "      if (probSum == 0):\n",
    "        newcity = np.random.choice(canVisit)\n",
    "      else:\n",
    "        for value in canVisit:\n",
    "          prob = ((pheromone_maxtix[currentlocation][value] ** alpha) * ((1/cities_distance_matrix[currentlocation][value]) ** beta)) / probSum\n",
    "          probList.append(prob)\n",
    "        cumulative_distribution = np.cumsum(np.asarray(probList))\n",
    "        cumulative_distribution /= cumulative_distribution[-1]\n",
    "        uniform_samples = np.random.rand(len(canVisit))\n",
    "        index = np.searchsorted(cumulative_distribution, uniform_samples, side=\"right\")\n",
    "        newcity = canVisit[index[0]]\n",
    "        \n",
    "      #print(\"newcity:\")\n",
    "      #print(newcity)\n",
    "      s.append(newcity)\n",
    "      total += cities_distance_matrix[currentlocation][newcity]\n",
    "      currentlocation = newcity\n",
    "      canVisit =  delete_workaround(canVisit, currentlocation)\n",
    "\n",
    "    s.append(root)\n",
    "    total += cities_distance_matrix[root][currentlocation]  \n",
    "    total_list.append(total)\n",
    "    s_iter.append(s)\n",
    "\n",
    "  #Pheromone Update\n",
    "  update_func(pheromone_maxtix,s_iter,total_list)"
   ]
  },
  {
   "cell_type": "markdown",
   "metadata": {
    "id": "Ymaad7VLHfpY"
   },
   "source": [
    "Parameters for ACO"
   ]
  },
  {
   "cell_type": "code",
   "execution_count": 88,
   "metadata": {
    "id": "ELN2X4AQNvyV"
   },
   "outputs": [],
   "source": [
    "maxIterations = 30000\n",
    "ants= 50\n",
    "alpha = 1\n",
    "beta = 0.5"
   ]
  },
  {
   "cell_type": "markdown",
   "metadata": {
    "id": "KUcaeglglokr"
   },
   "source": [
    "Initialize Pheromone Matrix"
   ]
  },
  {
   "cell_type": "code",
   "execution_count": 89,
   "metadata": {
    "id": "pJu5Xea9lpV9"
   },
   "outputs": [],
   "source": [
    "pheromone_maxtix = np.zeros(shape=(50,50))"
   ]
  },
  {
   "cell_type": "markdown",
   "metadata": {
    "id": "L2Se8JHo4_CA"
   },
   "source": [
    "(Optional) Load a list of cities and their corresponding pheromone matrix from a spreadsheet"
   ]
  },
  {
   "cell_type": "code",
   "execution_count": 90,
   "metadata": {
    "colab": {
     "base_uri": "https://localhost:8080/"
    },
    "id": "bRX2Hh5t5MPQ",
    "outputId": "0e83eed2-ae18-46d2-dbc1-6b34b358de57"
   },
   "outputs": [
    {
     "name": "stdout",
     "output_type": "stream",
     "text": [
      "[[63, 54], [77, 31], [86, 2], [94, 25], [13, 56], [41, 37], [74, 89], [28, 59], [54, 32], [57, 27], [27, 10], [82, 62], [10, 12], [35, 90], [70, 98], [35, 48], [9, 61], [2, 57], [11, 84], [83, 62], [64, 83], [46, 72], [98, 71], [14, 35], [91, 84], [11, 49], [22, 78], [0, 53], [99, 47], [19, 37], [63, 89], [8, 74], [98, 65], [58, 33], [49, 36], [35, 40], [17, 58], [50, 94], [93, 74], [33, 76], [51, 63], [22, 0], [11, 99], [10, 4], [34, 20], [21, 51], [44, 80], [39, 50], [50, 64], [90, 89]]\n"
     ]
    }
   ],
   "source": [
    "url = 'https://raw.githubusercontent.com/ChristianVaughn/BioInspiredML/main/TSP/Dataset3/cities.csv?token=AHSGZY7FU5YPWMREIOXE6ADANYSAW'\n",
    "citiestemp = pd.read_csv(url)\n",
    "citiestemp = citiestemp.loc[:, ~citiestemp.columns.str.contains('^Unnamed')]\n",
    "root = citiestemp.tail(1).iloc[0,2] #citiestemp.loc[:,'root']\n",
    "citiestemp = citiestemp.loc[:, ~citiestemp.columns.str.contains('^root')]\n",
    "citiestemp = citiestemp.dropna()\n",
    "cities = citiestemp.values.tolist()\n",
    "for x in range(len(cities)):\n",
    "  for y in range(2):\n",
    "    cities[x][y] = int(cities[x][y])\n",
    "root = int(root)\n",
    "#Generate a distance matrix from the list of 50 cities\n",
    "df = pd.DataFrame(cities, columns=['xcord', 'ycord'])\n",
    "cities_distance_matrix = distance_matrix(df.values, df.values)\n",
    "print(cities)"
   ]
  },
  {
   "cell_type": "markdown",
   "metadata": {
    "id": "G9fsKeKX1qsv"
   },
   "source": [
    "Pheromone Matrix for AS update"
   ]
  },
  {
   "cell_type": "code",
   "execution_count": null,
   "metadata": {
    "id": "jr29w1Ks9zl7"
   },
   "outputs": [],
   "source": [
    "\n",
    "#url = 'https://raw.githubusercontent.com/ChristianVaughn/BioInspiredML/main/TSP/Dataset3/pheromone_matrix_asupdate.csv?token=AHSGZY65WPDXYGXED3GKKX3AOI6G6' #old url\n",
    "url = 'https://raw.githubusercontent.com/ChristianVaughn/BioInspiredML/main/TSP/Dataset3/pheromone_matrix_asupdate_Fixed.csv?token=AHSGZYZ2EVAQEEAD7A5KFEDAONSRM'\n",
    "pmatrix = pd.read_csv(url)\n",
    "pheromone_maxtix = pmatrix.loc[:, ~pmatrix.columns.str.contains('^Unnamed')]\n",
    "pheromone_maxtix.index = range(50)\n",
    "pheromone_maxtix.columns = range(50)"
   ]
  },
  {
   "cell_type": "markdown",
   "metadata": {
    "id": "cFEZLjFP1vRw"
   },
   "source": [
    "Pheromone Matrix for IB update"
   ]
  },
  {
   "cell_type": "code",
   "execution_count": null,
   "metadata": {
    "id": "LVwkxs1B1xxd"
   },
   "outputs": [],
   "source": [
    "#url = 'https://raw.githubusercontent.com/ChristianVaughn/BioInspiredML/main/TSP/Dataset3/pheromone_matrix_ibupdate.csv?token=AHSGZY2TUHILZBKWSAHTNH3AOI6HC'#old data\n",
    "url = 'https://raw.githubusercontent.com/ChristianVaughn/BioInspiredML/main/TSP/Dataset3/pheromone_matrix_ibupdate_Fixed.csv?token=AHSGZYZ7NLEAGDNN55P2HJTAOM7TE' #new data\n",
    "pmatrix = pd.read_csv(url)\n",
    "pheromone_maxtix = pmatrix.loc[:, ~pmatrix.columns.str.contains('^Unnamed')]\n",
    "pheromone_maxtix.index = range(50)\n",
    "pheromone_maxtix.columns = range(50)"
   ]
  },
  {
   "cell_type": "markdown",
   "metadata": {
    "id": "-p30-SBrHhfg"
   },
   "source": [
    "Click to run ACO algorithm for the specified number of iterations"
   ]
  },
  {
   "cell_type": "code",
   "execution_count": 91,
   "metadata": {
    "id": "VW_S1_mJHenO"
   },
   "outputs": [
    {
     "name": "stderr",
     "output_type": "stream",
     "text": [
      "100%|███████████████████████████████████████████████████████████████████████████| 30000/30000 [04:44<00:00, 105.46it/s]\n"
     ]
    }
   ],
   "source": [
    "for iteration in tqdm(range(maxIterations)):\n",
    "  aco_func(pheromone_maxtix,ants,alpha,beta,as_pheroupdate)"
   ]
  },
  {
   "cell_type": "code",
   "execution_count": 92,
   "metadata": {
    "colab": {
     "base_uri": "https://localhost:8080/"
    },
    "id": "2lKOaTxaN5iQ",
    "outputId": "1c72f329-6852-4418-8d62-3922e1cab306"
   },
   "outputs": [
    {
     "data": {
      "text/plain": [
       "array([[  0.        ,  28.39259759,  38.97414215, ...,  52.54037135,\n",
       "        201.42288852,  33.38859572],\n",
       "       [149.32138558,   0.        , 125.73960697, ...,   9.25087792,\n",
       "          7.68760846,   0.        ],\n",
       "       [ 35.08184896,  48.83233545,   0.        , ...,   3.95992176,\n",
       "         24.81157196,   6.20352797],\n",
       "       ...,\n",
       "       [ 35.61980745,  17.29616208,   9.91125237, ...,   0.        ,\n",
       "          9.22256698,   2.4599728 ],\n",
       "       [121.9512403 ,  17.87128209,   7.42946717, ...,  34.71983413,\n",
       "          0.        ,   2.28746673],\n",
       "       [ 14.63774546,  27.91324728,  10.91798263, ...,   0.90377821,\n",
       "          1.52182024,   0.        ]])"
      ]
     },
     "execution_count": 92,
     "metadata": {},
     "output_type": "execute_result"
    }
   ],
   "source": [
    "pheromone_maxtix"
   ]
  },
  {
   "cell_type": "code",
   "execution_count": null,
   "metadata": {
    "id": "dK_gTU9luL54"
   },
   "outputs": [],
   "source": []
  },
  {
   "cell_type": "markdown",
   "metadata": {
    "id": "YxkP1Cw-5bhe"
   },
   "source": [
    "(Optional) Store the list of cities and pheromone matrix to text files"
   ]
  },
  {
   "cell_type": "code",
   "execution_count": null,
   "metadata": {
    "colab": {
     "base_uri": "https://localhost:8080/",
     "height": 16
    },
    "id": "6d0xJz3VzLOo",
    "outputId": "d8a1ddb4-a514-48ad-9b33-f8adda00c222"
   },
   "outputs": [
    {
     "data": {
      "application/javascript": [
       "\n",
       "    async function download(id, filename, size) {\n",
       "      if (!google.colab.kernel.accessAllowed) {\n",
       "        return;\n",
       "      }\n",
       "      const div = document.createElement('div');\n",
       "      const label = document.createElement('label');\n",
       "      label.textContent = `Downloading \"${filename}\": `;\n",
       "      div.appendChild(label);\n",
       "      const progress = document.createElement('progress');\n",
       "      progress.max = size;\n",
       "      div.appendChild(progress);\n",
       "      document.body.appendChild(div);\n",
       "\n",
       "      const buffers = [];\n",
       "      let downloaded = 0;\n",
       "\n",
       "      const channel = await google.colab.kernel.comms.open(id);\n",
       "      // Send a message to notify the kernel that we're ready.\n",
       "      channel.send({})\n",
       "\n",
       "      for await (const message of channel.messages) {\n",
       "        // Send a message to notify the kernel that we're ready.\n",
       "        channel.send({})\n",
       "        if (message.buffers) {\n",
       "          for (const buffer of message.buffers) {\n",
       "            buffers.push(buffer);\n",
       "            downloaded += buffer.byteLength;\n",
       "            progress.value = downloaded;\n",
       "          }\n",
       "        }\n",
       "      }\n",
       "      const blob = new Blob(buffers, {type: 'application/binary'});\n",
       "      const a = document.createElement('a');\n",
       "      a.href = window.URL.createObjectURL(blob);\n",
       "      a.download = filename;\n",
       "      div.appendChild(a);\n",
       "      a.click();\n",
       "      div.remove();\n",
       "    }\n",
       "  "
      ],
      "text/plain": [
       "<IPython.core.display.Javascript object>"
      ]
     },
     "metadata": {
      "tags": []
     },
     "output_type": "display_data"
    },
    {
     "data": {
      "application/javascript": [
       "download(\"download_be7e58e4-52cf-4079-8009-1ccff7c63d8b\", \"cities.csv\", 701)"
      ],
      "text/plain": [
       "<IPython.core.display.Javascript object>"
      ]
     },
     "metadata": {
      "tags": []
     },
     "output_type": "display_data"
    }
   ],
   "source": [
    "tempdf = pd.DataFrame(cities,columns=['x','y'])\n",
    "tempdf = tempdf.append(pd.DataFrame([root],columns=['root']))\n",
    "tempdf.to_csv('cities.csv')\n",
    "files.download('cities.csv')  #download the csv file"
   ]
  },
  {
   "cell_type": "code",
   "execution_count": null,
   "metadata": {
    "colab": {
     "base_uri": "https://localhost:8080/",
     "height": 16
    },
    "id": "5wxHCrpqOXvE",
    "outputId": "d8a634af-964f-4c55-fcdd-072b37caa9a3"
   },
   "outputs": [
    {
     "data": {
      "application/javascript": [
       "\n",
       "    async function download(id, filename, size) {\n",
       "      if (!google.colab.kernel.accessAllowed) {\n",
       "        return;\n",
       "      }\n",
       "      const div = document.createElement('div');\n",
       "      const label = document.createElement('label');\n",
       "      label.textContent = `Downloading \"${filename}\": `;\n",
       "      div.appendChild(label);\n",
       "      const progress = document.createElement('progress');\n",
       "      progress.max = size;\n",
       "      div.appendChild(progress);\n",
       "      document.body.appendChild(div);\n",
       "\n",
       "      const buffers = [];\n",
       "      let downloaded = 0;\n",
       "\n",
       "      const channel = await google.colab.kernel.comms.open(id);\n",
       "      // Send a message to notify the kernel that we're ready.\n",
       "      channel.send({})\n",
       "\n",
       "      for await (const message of channel.messages) {\n",
       "        // Send a message to notify the kernel that we're ready.\n",
       "        channel.send({})\n",
       "        if (message.buffers) {\n",
       "          for (const buffer of message.buffers) {\n",
       "            buffers.push(buffer);\n",
       "            downloaded += buffer.byteLength;\n",
       "            progress.value = downloaded;\n",
       "          }\n",
       "        }\n",
       "      }\n",
       "      const blob = new Blob(buffers, {type: 'application/binary'});\n",
       "      const a = document.createElement('a');\n",
       "      a.href = window.URL.createObjectURL(blob);\n",
       "      a.download = filename;\n",
       "      div.appendChild(a);\n",
       "      a.click();\n",
       "      div.remove();\n",
       "    }\n",
       "  "
      ],
      "text/plain": [
       "<IPython.core.display.Javascript object>"
      ]
     },
     "metadata": {
      "tags": []
     },
     "output_type": "display_data"
    },
    {
     "data": {
      "application/javascript": [
       "download(\"download_508b68a1-352a-4271-a58f-afa9487dbb2f\", \"pheromone_matrix.csv\", 46433)"
      ],
      "text/plain": [
       "<IPython.core.display.Javascript object>"
      ]
     },
     "metadata": {
      "tags": []
     },
     "output_type": "display_data"
    }
   ],
   "source": [
    "pheromone_maxtix.to_csv('pheromone_matrix.csv') #stores pheromone matrix as a csv file that can be downloaded\n",
    "files.download('pheromone_matrix.csv')  #download the csv file\n"
   ]
  },
  {
   "cell_type": "markdown",
   "metadata": {
    "id": "8ZSFOqRiMat6"
   },
   "source": [
    "Finding 5 of the most optimal paths using the pheromone matrix"
   ]
  },
  {
   "cell_type": "code",
   "execution_count": 93,
   "metadata": {
    "id": "Y87HO7iTMaQS"
   },
   "outputs": [],
   "source": [
    "def aco_results():\n",
    "  s_iter = []\n",
    "  total_list = []\n",
    "  beta = 0.1\n",
    "  for i in range(5):\n",
    "    total = 0.0;\n",
    "    currentlocation = root\n",
    "    s = []\n",
    "    s.append(root)\n",
    "    canVisit = np.array(range(50))\n",
    "    canVisit = np.delete(canVisit, np.argwhere(canVisit == currentlocation))\n",
    "    #print(\"start\")\n",
    "    while len(canVisit) !=0:\n",
    "      probSum = 0\n",
    "      probList = list()\n",
    "      for value in canVisit:\n",
    "        prob = (pheromone_maxtix[currentlocation][value] ** alpha) * ((1/cities_distance_matrix[currentlocation][value]) ** beta)\n",
    "        probSum += prob\n",
    "      if (probSum == 0):\n",
    "        newcity = np.random.choice(canVisit)\n",
    "      else:\n",
    "        for value in canVisit:\n",
    "          prob = ((pheromone_maxtix[currentlocation][value] ** alpha) * ((1/cities_distance_matrix[currentlocation][value]) ** beta)) / probSum\n",
    "          probList.append(prob)\n",
    "        newcity = np.random.choice(canVisit, p=probList)\n",
    "        \n",
    "      #print(\"newcity:\")\n",
    "      #print(newcity)\n",
    "      s.append(newcity)\n",
    "      total += cities_distance_matrix[currentlocation][newcity]\n",
    "      currentlocation = newcity\n",
    "      canVisit = np.delete(canVisit, np.argwhere(canVisit == currentlocation))\n",
    "\n",
    "    s.append(root)\n",
    "    total += cities_distance_matrix[root][currentlocation]  \n",
    "    total_list.append(total)\n",
    "    s_iter.append(s)\n",
    "  return s_iter,total_list"
   ]
  },
  {
   "cell_type": "code",
   "execution_count": 94,
   "metadata": {},
   "outputs": [],
   "source": [
    "def aco_results_alt():\n",
    "    currentlocation = root  #start at the randomly determined starting city\n",
    "    total = 0   #counter for the total distance in the path taken\n",
    "    route = []    #list to store the path taken\n",
    "    canVisit = np.array(range(50))\n",
    "    canVisit = np.delete(canVisit, np.argwhere(canVisit == currentlocation))\n",
    "    route.append(currentlocation) #append the starting position to the route\n",
    "\n",
    "    #Each of the cities will be visited once, with the exception of the starting city, which we will return to\n",
    "    for i in range(len(cities)-1):\n",
    "        nextlocation = -1\n",
    "        max = np.NINF\n",
    "        for value in canVisit:\n",
    "            if pheromone_maxtix[currentlocation][value] > max:\n",
    "                max = pheromone_maxtix[currentlocation][value]\n",
    "                nextlocation = value\n",
    "        canVisit = np.delete(canVisit, np.argwhere(canVisit == currentlocation))\n",
    "        total += cities_distance_matrix[currentlocation][nextlocation] #adds the distance between the current city and the next city to the total\n",
    "        route.append(nextlocation) #appends the next city to the route\n",
    "        currentlocation = nextlocation #sets the current location to the next location\n",
    "        canVisit = np.delete(canVisit, np.argwhere(canVisit == currentlocation)) #drops the current city from the adjacency matrix since it can no longer be visited (with the exception of the return to the starting city)\n",
    "\n",
    "    #return to the starting location at the end\n",
    "    total += cities_distance_matrix[root][currentlocation] #find the distance from the last city visited to the starting location \n",
    "    route.append(root) #append the starting location to the route\n",
    "    print(total)\n",
    "    return route,total"
   ]
  },
  {
   "cell_type": "markdown",
   "metadata": {
    "id": "ynNzGOFqvJtl"
   },
   "source": [
    "Heuristic Algorithm - Nearest Neighbor\n",
    "\n",
    "Find the vertex that is closest (more precisely, has the lowest cost) to the current position but is not yet part of the route, and add it into the route.\n",
    "Repeat until the route includes each vertex."
   ]
  },
  {
   "cell_type": "code",
   "execution_count": 95,
   "metadata": {
    "id": "uat-Og8kpcK1"
   },
   "outputs": [],
   "source": [
    "#Heuristic algo - nearest neighbor\n",
    "currentlocation = root  #start at the randomly determined starting city\n",
    "total = 0   #counter for the total distance in the path taken\n",
    "route = []    #list to store the path taken\n",
    "canVisit = np.array(range(50))\n",
    "canVisit = np.delete(canVisit, np.argwhere(canVisit == currentlocation))\n",
    "route.append(currentlocation) #append the starting position to the route\n",
    "\n",
    "#Each of the cities will be visited once, with the exception of the starting city, which we will return to\n",
    "for i in range(len(cities)-1):\n",
    "  nextlocation = -1\n",
    "  min = np.Inf\n",
    "  for value in canVisit:\n",
    "    if cities_distance_matrix[currentlocation][value] < min:\n",
    "      min = cities_distance_matrix[currentlocation][value]\n",
    "      nextlocation = value\n",
    "  #nextlocation = np.amin(cities_distance_matrix[currentlocation]) #using the adjacency matrix, finds the smallest value and returns the next city to be visited\n",
    "  canVisit = np.delete(canVisit, np.argwhere(canVisit == currentlocation))\n",
    "  total += cities_distance_matrix[currentlocation][nextlocation] #adds the distance between the current city and the next city to the total\n",
    "  route.append(nextlocation) #appends the next city to the route\n",
    "  currentlocation = nextlocation #sets the current location to the next location\n",
    "  canVisit = np.delete(canVisit, np.argwhere(canVisit == currentlocation)) #drops the current city from the adjacency matrix since it can no longer be visited (with the exception of the return to the starting city)\n",
    "\n",
    "#return to the starting location at the end\n",
    "total += cities_distance_matrix[root][currentlocation] #find the distance from the last city visited to the starting location \n",
    "route.append(root) #append the starting location to the route"
   ]
  },
  {
   "cell_type": "code",
   "execution_count": 96,
   "metadata": {
    "colab": {
     "base_uri": "https://localhost:8080/"
    },
    "id": "fUa7-AuB9w03",
    "outputId": "5227bb55-e090-413e-c8b9-eef69780a630"
   },
   "outputs": [
    {
     "name": "stdout",
     "output_type": "stream",
     "text": [
      "[1, 3, 28, 32, 22, 38, 24, 49, 6, 14, 30, 20, 37, 46, 21, 48, 40, 0, 11, 19, 33, 8, 9, 34, 5, 35, 15, 47, 7, 45, 36, 4, 16, 17, 27, 25, 23, 29, 44, 10, 41, 43, 12, 31, 18, 26, 39, 13, 42, 2, 1]\n",
      "748.2254809647552\n"
     ]
    }
   ],
   "source": [
    "print(route)\n",
    "print(total)\n"
   ]
  },
  {
   "cell_type": "markdown",
   "metadata": {
    "id": "hHWw1icf6gwF"
   },
   "source": [
    "Graph Stuff"
   ]
  },
  {
   "cell_type": "code",
   "execution_count": 97,
   "metadata": {
    "id": "8Kkr2ud66jO1"
   },
   "outputs": [],
   "source": [
    "def sortCitiesSolution(lst):\n",
    "    global cities\n",
    "    x = []\n",
    "    y = []\n",
    "    for val in lst:\n",
    "        x.append(cities[val][0])\n",
    "        y.append(cities[val][1])\n",
    "    return (x,y)\n",
    "    "
   ]
  },
  {
   "cell_type": "markdown",
   "metadata": {
    "id": "QbFpFdre6pEq"
   },
   "source": [
    "Nearest Neighbor stuff"
   ]
  },
  {
   "cell_type": "code",
   "execution_count": 98,
   "metadata": {
    "colab": {
     "base_uri": "https://localhost:8080/",
     "height": 295
    },
    "id": "fnZUCkd-6mO2",
    "outputId": "c55955e0-b318-47e7-9ccc-0f94d3ca9e7d"
   },
   "outputs": [
    {
     "data": {
      "image/png": "[encoded data removed]",
      "text/plain": [
       "<Figure size 432x288 with 1 Axes>"
      ]
     },
     "metadata": {
      "needs_background": "light"
     },
     "output_type": "display_data"
    }
   ],
   "source": [
    "nearestNeighborX,nearestNeighborY = sortCitiesSolution(route)\n",
    "fig,ax = plt.subplots()\n",
    "plt.scatter(nearestNeighborX,nearestNeighborY ,color='orange',zorder=1)\n",
    "plt.plot(nearestNeighborX,nearestNeighborY ,zorder=0)\n",
    "ax.set_ylabel('Longitude')\n",
    "ax.set_xlabel('Latitude')\n",
    "ax.set_title('Nearest Neighbor')\n",
    "#plt.set_xticks(ind)\n",
    "fig.savefig(\"nearestneighbor.png\")\n",
    "plt.show()"
   ]
  },
  {
   "cell_type": "code",
   "execution_count": 99,
   "metadata": {
    "colab": {
     "base_uri": "https://localhost:8080/",
     "height": 350
    },
    "id": "JmkZLuN5X4y9",
    "outputId": "7dcabe01-76f8-45b9-f43b-cc68f6a57a7e"
   },
   "outputs": [
    {
     "name": "stdout",
     "output_type": "stream",
     "text": [
      "724.1347890448548\n"
     ]
    },
    {
     "data": {
      "text/plain": [
       "724.1347890448548"
      ]
     },
     "execution_count": 99,
     "metadata": {},
     "output_type": "execute_result"
    }
   ],
   "source": [
    "s_iter,total_list = aco_results_alt()\n",
    "#for index in range(len(s_iter)):\n",
    "#  acoCityX,acoCityY = sortCitiesSolution(s_iter[index])\n",
    "#  fig,ax = plt.subplots()\n",
    "#  plt.scatter(acoCityX,acoCityY ,color='orange',zorder=1)\n",
    "#  plt.plot(acoCityX,acoCityY ,zorder=0)\n",
    "#  ax.set_ylabel('Longitude')\n",
    "#  ax.set_xlabel('Latitude')\n",
    "#  ax.set_title('ACO')\n",
    "#  #plt.set_xticks(ind)\n",
    "#  fig.savefig(\"aco.png\")\n",
    "#  plt.show()\n",
    "#  print('route:', end='')\n",
    "#  print(s_iter[index])\n",
    "#  print('cost:', end='')\n",
    "#  print(total_list[index])\n",
    "total_list"
   ]
  },
  {
   "cell_type": "code",
   "execution_count": 100,
   "metadata": {
    "scrolled": true
   },
   "outputs": [
    {
     "name": "stdout",
     "output_type": "stream",
     "text": [
      "724.1347890448548\n"
     ]
    },
    {
     "data": {
      "image/png": "[encoded data removed]",
      "text/plain": [
       "<Figure size 432x288 with 1 Axes>"
      ]
     },
     "metadata": {
      "needs_background": "light"
     },
     "output_type": "display_data"
    }
   ],
   "source": [
    "s_iter,total_list = aco_results_alt()\n",
    "nearestNeighborX,nearestNeighborY = sortCitiesSolution(s_iter)\n",
    "fig,ax = plt.subplots()\n",
    "plt.scatter(nearestNeighborX,nearestNeighborY ,color='orange',zorder=1)\n",
    "plt.plot(nearestNeighborX,nearestNeighborY ,zorder=0)\n",
    "ax.set_ylabel('Longitude')\n",
    "ax.set_xlabel('Latitude')\n",
    "ax.set_title('Nearest Neighbor')\n",
    "#plt.set_xticks(ind)\n",
    "fig.savefig(\"nearestneighbor.png\")\n",
    "plt.show()"
   ]
  },
  {
   "cell_type": "code",
   "execution_count": null,
   "metadata": {},
   "outputs": [],
   "source": []
  }
 ],
 "metadata": {
  "colab": {
   "collapsed_sections": [],
   "name": "main.ipynb",
   "provenance": []
  },
  "kernelspec": {
   "display_name": "Python 3",
   "language": "python",
   "name": "python3"
  },
  "language_info": {
   "codemirror_mode": {
    "name": "ipython",
    "version": 3
   },
   "file_extension": ".py",
   "mimetype": "text/x-python",
   "name": "python",
   "nbconvert_exporter": "python",
   "pygments_lexer": "ipython3",
   "version": "3.8.5"
  }
 },
 "nbformat": 4,
 "nbformat_minor": 1
}
