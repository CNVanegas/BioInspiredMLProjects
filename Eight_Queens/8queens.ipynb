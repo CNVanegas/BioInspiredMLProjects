{
  "nbformat": 4,
  "nbformat_minor": 0,
  "metadata": {
    "colab": {
      "name": "8queens.ipynb",
      "provenance": [],
      "collapsed_sections": [],
      "authorship_tag": "ABX9TyOSxomKrPb7ygHKzSDim5R5",
      "include_colab_link": true
    },
    "kernelspec": {
      "name": "python3",
      "display_name": "Python 3"
    },
    "language_info": {
      "name": "python"
    }
  },
  "cells": [
    {
      "cell_type": "markdown",
      "metadata": {
        "id": "view-in-github",
        "colab_type": "text"
      },
      "source": [
        "<a href=\"https://colab.research.google.com/github/ChristianVaughn/BioInspiredML/blob/main/Eight_Queens/8queens.ipynb\" target=\"_parent\"><img src=\"https://colab.research.google.com/assets/colab-badge.svg\" alt=\"Open In Colab\"/></a>"
      ]
    },
    {
      "cell_type": "code",
      "metadata": {
        "id": "6B70R0mNVHSH"
      },
      "source": [
        "import numpy as np\n",
        "import random\n",
        "\n",
        "numberOfQueens = 8\n",
        "maxPopSize = 100\n",
        "maxIterations = 10000\n",
        "mutationProbability = 0.8"
      ],
      "execution_count": 1,
      "outputs": []
    },
    {
      "cell_type": "code",
      "metadata": {
        "id": "chgxNSyHVJJM"
      },
      "source": [
        "class Queens:\n",
        "    def __init__ (self, genotype, fitness):\n",
        "        self.genotype = genotype\n",
        "        self.fitness = fitness\n",
        "    def updateFitness(self, fitness):\n",
        "        self.fitness = fitness\n",
        "    def updateGenotype(self, genotype):\n",
        "        self.genotype = genotype\n",
        "    def getFitness(self):\n",
        "        return self.fitness\n",
        "    def getGenotype(self):\n",
        "        return self.genotype"
      ],
      "execution_count": 2,
      "outputs": []
    },
    {
      "cell_type": "code",
      "metadata": {
        "id": "jDLsXoqXVKyE"
      },
      "source": [
        "def get_fitness(genotype):\n",
        "  checks = 0\n",
        "  #check for row and column checks by seeing how many unique numbers are in the list. if no checks there should be 8 unique numbers, so 0 checks.\n",
        "  up_down_checks = len(genotype) - len(np.unique(genotype)) \n",
        "\n",
        "  #check for diagonals\n",
        "  for i in range(len(genotype)):\n",
        "    for j in range(len(genotype)):\n",
        "      x = abs(i-j)\n",
        "      y = abs(genotype[i] - genotype[j])\n",
        "      if (i != j and x == y):\n",
        "        checks += 1\n",
        "  checks += up_down_checks\n",
        "  return 28 - checks"
      ],
      "execution_count": 3,
      "outputs": []
    },
    {
      "cell_type": "code",
      "metadata": {
        "id": "7K7LfNpCVK6J"
      },
      "source": [
        "def init_population(populationSize,numberOfQueens):\n",
        "  populationList = list()\n",
        "  for offspring in range(populationSize):\n",
        "    genotype = np.arange(numberOfQueens)\n",
        "    np.random.shuffle(genotype)\n",
        "    fitness = get_fitness(genotype)\n",
        "    populationList.append(Queens(genotype, fitness))\n",
        "  return populationList"
      ],
      "execution_count": 4,
      "outputs": []
    },
    {
      "cell_type": "code",
      "metadata": {
        "id": "e07n4Wb8VK9z"
      },
      "source": [
        "def mutation(offspring):\n",
        "  global mutationProbability\n",
        "\n",
        "  randNum = random.random()\n",
        "  if (randNum <= 0.8):\n",
        "    i1, i2 = random.sample(range(len(offspring.genotype)), 2)\n",
        "    genotype = offspring.genotype\n",
        "    genotype[i1], genotype[i2] = genotype[i2], genotype[i1]\n",
        "    offspring.updateGenotype(genotype)\n",
        "    return offspring\n",
        "  return offspring"
      ],
      "execution_count": 5,
      "outputs": []
    },
    {
      "cell_type": "code",
      "metadata": {
        "id": "6ucKSxuyVLAn"
      },
      "source": [
        "def recombination(parentA, parentB):\n",
        "  cutPoint = np.random.randint(len(parentA.genotype), size=1)\n",
        "  genotype1 = parentA.genotype[0:cutPoint].tolist() #+ parentB.genotype[cutPoint:]\n",
        "  genotype2 = parentB.genotype[0:cutPoint].tolist() #+ parentA.genotype[cutPoint:]\n",
        "  return (Queens(genotype1, get_fitness(genotype1)), Queens(genotype2, get_fitness(genotype2)))"
      ],
      "execution_count": 10,
      "outputs": []
    },
    {
      "cell_type": "code",
      "metadata": {
        "id": "gXx6WNTbVLDL"
      },
      "source": [
        "def selection():\n",
        "  global population\n",
        "  parents = np.random.choice(population, size=5)\n",
        "  parents = parents.tolist()\n",
        "  parents.sort(key=lambda x: x.fitness, reverse=True)\n",
        "  offspring = recombination(parents[0],parents[1])\n",
        "\n",
        "  offspring1 = mutation(offspring[0])\n",
        "  offspring2 = mutation(offspring[1])\n",
        "\n",
        "  #Replace 2 of population with the new children\n",
        "  population.sort(key=lambda x: x.fitness, reverse=True)\n",
        "  for member in np.nditer(population, op_flags=['readwrite']):\n",
        "    if (member.fitness < offspring1.fitness):\n",
        "      member = offspring1\n",
        "      return\n",
        "  for member in np.nditer(population, op_flags=['readwrite']):\n",
        "    if (member.fitness < offspring2.fitness):\n",
        "      member = offspring2\n",
        "      return"
      ],
      "execution_count": 7,
      "outputs": []
    },
    {
      "cell_type": "code",
      "metadata": {
        "colab": {
          "base_uri": "https://localhost:8080/",
          "height": 340
        },
        "id": "8vuF68DPVLF3",
        "outputId": "ad753e3f-2031-4412-93de-5fd5f3e2ced0"
      },
      "source": [
        "population = init_population(maxPopSize,numberOfQueens)\n",
        "\n",
        "for iteration in range(maxIterations):\n",
        "  selection()"
      ],
      "execution_count": 12,
      "outputs": [
        {
          "output_type": "error",
          "ename": "TypeError",
          "evalue": "ignored",
          "traceback": [
            "\u001b[0;31m---------------------------------------------------------------------------\u001b[0m",
            "\u001b[0;31mTypeError\u001b[0m                                 Traceback (most recent call last)",
            "\u001b[0;32m<ipython-input-12-83e7039febca>\u001b[0m in \u001b[0;36m<module>\u001b[0;34m()\u001b[0m\n\u001b[1;32m      2\u001b[0m \u001b[0;34m\u001b[0m\u001b[0m\n\u001b[1;32m      3\u001b[0m \u001b[0;32mfor\u001b[0m \u001b[0miteration\u001b[0m \u001b[0;32min\u001b[0m \u001b[0mrange\u001b[0m\u001b[0;34m(\u001b[0m\u001b[0mmaxIterations\u001b[0m\u001b[0;34m)\u001b[0m\u001b[0;34m:\u001b[0m\u001b[0;34m\u001b[0m\u001b[0;34m\u001b[0m\u001b[0m\n\u001b[0;32m----> 4\u001b[0;31m   \u001b[0mselection\u001b[0m\u001b[0;34m(\u001b[0m\u001b[0;34m)\u001b[0m\u001b[0;34m\u001b[0m\u001b[0;34m\u001b[0m\u001b[0m\n\u001b[0m",
            "\u001b[0;32m<ipython-input-7-98968658de62>\u001b[0m in \u001b[0;36mselection\u001b[0;34m()\u001b[0m\n\u001b[1;32m      4\u001b[0m   \u001b[0mparents\u001b[0m \u001b[0;34m=\u001b[0m \u001b[0mparents\u001b[0m\u001b[0;34m.\u001b[0m\u001b[0mtolist\u001b[0m\u001b[0;34m(\u001b[0m\u001b[0;34m)\u001b[0m\u001b[0;34m\u001b[0m\u001b[0;34m\u001b[0m\u001b[0m\n\u001b[1;32m      5\u001b[0m   \u001b[0mparents\u001b[0m\u001b[0;34m.\u001b[0m\u001b[0msort\u001b[0m\u001b[0;34m(\u001b[0m\u001b[0mkey\u001b[0m\u001b[0;34m=\u001b[0m\u001b[0;32mlambda\u001b[0m \u001b[0mx\u001b[0m\u001b[0;34m:\u001b[0m \u001b[0mx\u001b[0m\u001b[0;34m.\u001b[0m\u001b[0mfitness\u001b[0m\u001b[0;34m,\u001b[0m \u001b[0mreverse\u001b[0m\u001b[0;34m=\u001b[0m\u001b[0;32mTrue\u001b[0m\u001b[0;34m)\u001b[0m\u001b[0;34m\u001b[0m\u001b[0;34m\u001b[0m\u001b[0m\n\u001b[0;32m----> 6\u001b[0;31m   \u001b[0moffspring\u001b[0m \u001b[0;34m=\u001b[0m \u001b[0mrecombination\u001b[0m\u001b[0;34m(\u001b[0m\u001b[0mparents\u001b[0m\u001b[0;34m[\u001b[0m\u001b[0;36m0\u001b[0m\u001b[0;34m]\u001b[0m\u001b[0;34m,\u001b[0m\u001b[0mparents\u001b[0m\u001b[0;34m[\u001b[0m\u001b[0;36m1\u001b[0m\u001b[0;34m]\u001b[0m\u001b[0;34m)\u001b[0m\u001b[0;34m\u001b[0m\u001b[0;34m\u001b[0m\u001b[0m\n\u001b[0m\u001b[1;32m      7\u001b[0m \u001b[0;34m\u001b[0m\u001b[0m\n\u001b[1;32m      8\u001b[0m   \u001b[0moffspring1\u001b[0m \u001b[0;34m=\u001b[0m \u001b[0mmutation\u001b[0m\u001b[0;34m(\u001b[0m\u001b[0moffspring\u001b[0m\u001b[0;34m[\u001b[0m\u001b[0;36m0\u001b[0m\u001b[0;34m]\u001b[0m\u001b[0;34m)\u001b[0m\u001b[0;34m\u001b[0m\u001b[0;34m\u001b[0m\u001b[0m\n",
            "\u001b[0;32m<ipython-input-10-7f5acd552b0e>\u001b[0m in \u001b[0;36mrecombination\u001b[0;34m(parentA, parentB)\u001b[0m\n\u001b[1;32m      1\u001b[0m \u001b[0;32mdef\u001b[0m \u001b[0mrecombination\u001b[0m\u001b[0;34m(\u001b[0m\u001b[0mparentA\u001b[0m\u001b[0;34m,\u001b[0m \u001b[0mparentB\u001b[0m\u001b[0;34m)\u001b[0m\u001b[0;34m:\u001b[0m\u001b[0;34m\u001b[0m\u001b[0;34m\u001b[0m\u001b[0m\n\u001b[1;32m      2\u001b[0m   \u001b[0mcutPoint\u001b[0m \u001b[0;34m=\u001b[0m \u001b[0mnp\u001b[0m\u001b[0;34m.\u001b[0m\u001b[0mrandom\u001b[0m\u001b[0;34m.\u001b[0m\u001b[0mrandint\u001b[0m\u001b[0;34m(\u001b[0m\u001b[0mlen\u001b[0m\u001b[0;34m(\u001b[0m\u001b[0mparentA\u001b[0m\u001b[0;34m.\u001b[0m\u001b[0mgenotype\u001b[0m\u001b[0;34m)\u001b[0m\u001b[0;34m,\u001b[0m \u001b[0msize\u001b[0m\u001b[0;34m=\u001b[0m\u001b[0;36m1\u001b[0m\u001b[0;34m)\u001b[0m\u001b[0;34m\u001b[0m\u001b[0;34m\u001b[0m\u001b[0m\n\u001b[0;32m----> 3\u001b[0;31m   \u001b[0mgenotype1\u001b[0m \u001b[0;34m=\u001b[0m \u001b[0mparentA\u001b[0m\u001b[0;34m.\u001b[0m\u001b[0mgenotype\u001b[0m\u001b[0;34m[\u001b[0m\u001b[0;36m0\u001b[0m\u001b[0;34m:\u001b[0m\u001b[0mcutPoint\u001b[0m\u001b[0;34m]\u001b[0m\u001b[0;34m.\u001b[0m\u001b[0mtolist\u001b[0m\u001b[0;34m(\u001b[0m\u001b[0;34m)\u001b[0m \u001b[0;31m#+ parentB.genotype[cutPoint:]\u001b[0m\u001b[0;34m\u001b[0m\u001b[0;34m\u001b[0m\u001b[0m\n\u001b[0m\u001b[1;32m      4\u001b[0m   \u001b[0mgenotype2\u001b[0m \u001b[0;34m=\u001b[0m \u001b[0mparentB\u001b[0m\u001b[0;34m.\u001b[0m\u001b[0mgenotype\u001b[0m\u001b[0;34m[\u001b[0m\u001b[0;36m0\u001b[0m\u001b[0;34m:\u001b[0m\u001b[0mcutPoint\u001b[0m\u001b[0;34m]\u001b[0m\u001b[0;34m.\u001b[0m\u001b[0mtolist\u001b[0m\u001b[0;34m(\u001b[0m\u001b[0;34m)\u001b[0m \u001b[0;31m#+ parentA.genotype[cutPoint:]\u001b[0m\u001b[0;34m\u001b[0m\u001b[0;34m\u001b[0m\u001b[0m\n\u001b[1;32m      5\u001b[0m   \u001b[0;32mreturn\u001b[0m \u001b[0;34m(\u001b[0m\u001b[0mQueens\u001b[0m\u001b[0;34m(\u001b[0m\u001b[0mgenotype1\u001b[0m\u001b[0;34m,\u001b[0m \u001b[0mget_fitness\u001b[0m\u001b[0;34m(\u001b[0m\u001b[0mgenotype1\u001b[0m\u001b[0;34m)\u001b[0m\u001b[0;34m)\u001b[0m\u001b[0;34m,\u001b[0m \u001b[0mQueens\u001b[0m\u001b[0;34m(\u001b[0m\u001b[0mgenotype2\u001b[0m\u001b[0;34m,\u001b[0m \u001b[0mget_fitness\u001b[0m\u001b[0;34m(\u001b[0m\u001b[0mgenotype2\u001b[0m\u001b[0;34m)\u001b[0m\u001b[0;34m)\u001b[0m\u001b[0;34m)\u001b[0m\u001b[0;34m\u001b[0m\u001b[0;34m\u001b[0m\u001b[0m\n",
            "\u001b[0;31mTypeError\u001b[0m: only integer scalar arrays can be converted to a scalar index"
          ]
        }
      ]
    }
  ]
}