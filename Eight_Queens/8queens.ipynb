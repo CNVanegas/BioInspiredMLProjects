{
  "nbformat": 4,
  "nbformat_minor": 0,
  "metadata": {
    "colab": {
      "name": "8queens.ipynb",
      "provenance": [],
      "collapsed_sections": [],
      "authorship_tag": "ABX9TyNnhU867O0O6TQn+mNCkAIe",
      "include_colab_link": true
    },
    "kernelspec": {
      "name": "python3",
      "display_name": "Python 3"
    },
    "language_info": {
      "name": "python"
    }
  },
  "cells": [
    {
      "cell_type": "markdown",
      "metadata": {
        "id": "view-in-github",
        "colab_type": "text"
      },
      "source": [
        "<a href=\"https://colab.research.google.com/github/ChristianVaughn/BioInspiredML/blob/main/Eight_Queens/8queens.ipynb\" target=\"_parent\"><img src=\"https://colab.research.google.com/assets/colab-badge.svg\" alt=\"Open In Colab\"/></a>"
      ]
    },
    {
      "cell_type": "code",
      "metadata": {
        "id": "6B70R0mNVHSH"
      },
      "source": [
        "import numpy as np\n",
        "import random\n",
        "\n",
        "numberOfQueens = 8\n",
        "maxPopSize = 100\n",
        "maxIterations = 10000\n",
        "mutationProbability = 0.8"
      ],
      "execution_count": 1,
      "outputs": []
    },
    {
      "cell_type": "code",
      "metadata": {
        "id": "chgxNSyHVJJM"
      },
      "source": [
        "class Queens:\n",
        "    def __init__ (self, genotype, fitness):\n",
        "        self.genotype = genotype\n",
        "        self.fitness = fitness\n",
        "    def updateFitness(self, fitness):\n",
        "        self.fitness = fitness\n",
        "    def updateGenotype(self, genotype):\n",
        "        self.genotype = genotype\n",
        "    def getFitness(self):\n",
        "        return self.fitness\n",
        "    def getGenotype(self):\n",
        "        return self.genotype\n",
        "    "
      ],
      "execution_count": 2,
      "outputs": []
    },
    {
      "cell_type": "code",
      "metadata": {
        "id": "jDLsXoqXVKyE"
      },
      "source": [
        "def get_fitness(genotype):\n",
        "  checks = 0\n",
        "  #check for row and column checks by seeing how many unique numbers are in the list. if no checks there should be 8 unique numbers, so 0 checks.\n",
        "  up_down_checks = len(genotype) - len(np.unique(genotype)) \n",
        "\n",
        "  #check for diagonals\n",
        "  for i in range(len(genotype)):\n",
        "    for j in range(len(genotype)):\n",
        "      x = abs(i-j)\n",
        "      y = abs(genotype[i] - genotype[j])\n",
        "      if (i != j and x == y):\n",
        "        checks += 1\n",
        "  checks += up_down_checks\n",
        "  return 28 - checks"
      ],
      "execution_count": 3,
      "outputs": []
    },
    {
      "cell_type": "code",
      "metadata": {
        "id": "7K7LfNpCVK6J"
      },
      "source": [
        "def init_population(populationSize,numberOfQueens):\n",
        "  populationList = list()\n",
        "  for offspring in range(populationSize):\n",
        "    genotype = np.arange(numberOfQueens)\n",
        "    np.random.shuffle(genotype)\n",
        "    fitness = get_fitness(genotype)\n",
        "    populationList.append(Queens(genotype, fitness))\n",
        "  return populationList"
      ],
      "execution_count": 4,
      "outputs": []
    },
    {
      "cell_type": "code",
      "metadata": {
        "id": "e07n4Wb8VK9z"
      },
      "source": [
        "def mutation(offspring):\n",
        "  global mutationProbability\n",
        "\n",
        "  randNum = random.random()\n",
        "  if (randNum <= 0.8):\n",
        "    i1, i2 = random.sample(range(len(offspring.genotype)), 2)\n",
        "    genotype = offspring.genotype\n",
        "    genotype[i1], genotype[i2] = genotype[i2], genotype[i1]\n",
        "    offspring.updateGenotype(genotype)\n",
        "    return offspring\n",
        "  return offspring"
      ],
      "execution_count": 5,
      "outputs": []
    },
    {
      "cell_type": "code",
      "metadata": {
        "id": "6ucKSxuyVLAn"
      },
      "source": [
        "def recombination(parentA, parentB):\n",
        "  cutPoint = np.random.randint(len(parentA))\n",
        "  genotype1 = np.append(parentA[0:cutPoint],parentB[cutPoint:])\n",
        "  genotype2 = np.append(parentB[0:cutPoint],parentA[cutPoint:])\n",
        "  return (Queens(genotype1, get_fitness(genotype1)), Queens(genotype2, get_fitness(genotype2)))"
      ],
      "execution_count": 6,
      "outputs": []
    },
    {
      "cell_type": "code",
      "metadata": {
        "id": "gXx6WNTbVLDL"
      },
      "source": [
        "def selection():\n",
        "  global population\n",
        "  parents = np.random.choice(population, size=5)\n",
        "  parents = parents.tolist()\n",
        "  parents.sort(key=lambda x: x.fitness, reverse=True)\n",
        "  offspring = recombination(parents[0].genotype,parents[1].genotype)\n",
        "\n",
        "  offspring1 = mutation(offspring[0])\n",
        "  offspring2 = mutation(offspring[1])\n",
        "\n",
        "  #Replace 2 of population with the new children\n",
        "  population.sort(key=lambda x: x.fitness, reverse=True)\n",
        "\n",
        "  #for index,member in population:  #PYTHON NOT LETTING ME ITERATE OVER MY CLASS, AND I FORGOT HOW\n",
        "  for index in range(len(population)):\n",
        "    if (population[index].fitness < offspring1.fitness):\n",
        "      population[index] = offspring1\n",
        "      return\n",
        "  #for index,member in population: #PYTHON NOT LETTING ME ITERATE OVER MY CLASS, AND I FORGOT HOW\n",
        "  for index in range(len(population)):\n",
        "    if (population[index].fitness < offspring2.fitness):\n",
        "      population[index] = offspring2\n",
        "      return"
      ],
      "execution_count": 7,
      "outputs": []
    },
    {
      "cell_type": "code",
      "metadata": {
        "colab": {
          "base_uri": "https://localhost:8080/"
        },
        "id": "8vuF68DPVLF3",
        "outputId": "60802f20-56bd-4759-e4c2-3403246df08f"
      },
      "source": [
        "population = init_population(maxPopSize,numberOfQueens)\n",
        "\n",
        "for iteration in range(maxIterations):\n",
        "  selection()\n",
        "\n",
        "print(len(population))"
      ],
      "execution_count": 8,
      "outputs": [
        {
          "output_type": "stream",
          "text": [
            "100\n"
          ],
          "name": "stdout"
        }
      ]
    },
    {
      "cell_type": "code",
      "metadata": {
        "colab": {
          "base_uri": "https://localhost:8080/"
        },
        "id": "NHcAvUoGrjI7",
        "outputId": "c63820ed-b2b9-4462-f7fc-967808b4a715"
      },
      "source": [
        "for index in range(len(population)):\n",
        "  print(population[index].genotype)"
      ],
      "execution_count": 17,
      "outputs": [
        {
          "output_type": "stream",
          "text": [
            "[4 0 7 5 2 6 1 3]\n",
            "[0 4 7 5 2 6 1 3]\n",
            "[4 0 7 3 2 6 1 5]\n",
            "[4 0 7 5 2 6 1 3]\n",
            "[4 0 7 5 2 6 1 3]\n",
            "[0 4 7 5 2 6 1 3]\n",
            "[4 0 7 3 5 6 2 1]\n",
            "[6 0 7 5 2 4 1 3]\n",
            "[1 4 7 5 2 6 0 3]\n",
            "[4 0 5 7 2 6 1 3]\n",
            "[4 0 7 3 2 6 1 5]\n",
            "[4 0 7 5 2 6 3 1]\n",
            "[1 0 7 5 2 6 4 3]\n",
            "[4 0 7 5 2 6 1 3]\n",
            "[0 4 6 5 2 7 1 3]\n",
            "[4 0 7 5 2 3 1 6]\n",
            "[6 0 7 5 2 4 1 3]\n",
            "[1 0 7 5 2 6 4 3]\n",
            "[4 0 2 5 7 6 1 3]\n",
            "[5 0 7 4 2 6 1 3]\n",
            "[5 0 7 4 2 6 1 3]\n",
            "[4 0 7 5 3 6 1 2]\n",
            "[0 4 7 1 2 6 5 3]\n",
            "[4 6 7 5 2 0 1 3]\n",
            "[4 0 7 5 2 6 1 3]\n",
            "[4 0 3 5 2 6 1 7]\n",
            "[0 3 7 5 2 6 1 4]\n",
            "[0 4 7 5 2 6 1 3]\n",
            "[0 4 6 5 2 7 1 3]\n",
            "[3 0 7 5 2 6 1 4]\n",
            "[5 0 7 4 2 6 1 3]\n",
            "[4 0 7 5 2 1 6 3]\n",
            "[4 7 0 5 2 6 1 3]\n",
            "[4 0 7 5 2 6 1 3]\n",
            "[6 0 7 5 2 4 1 3]\n",
            "[0 6 7 5 2 4 1 3]\n",
            "[1 4 7 5 2 6 0 3]\n",
            "[5 0 7 4 2 6 1 3]\n",
            "[4 0 7 5 2 6 1 3]\n",
            "[4 0 7 5 2 6 1 3]\n",
            "[4 0 7 5 2 1 6 3]\n",
            "[4 0 2 5 7 6 1 3]\n",
            "[2 4 7 5 0 6 1 3]\n",
            "[7 0 4 5 2 6 1 3]\n",
            "[4 0 7 5 2 6 1 3]\n",
            "[4 1 7 5 2 6 0 3]\n",
            "[4 0 1 5 2 6 7 3]\n",
            "[4 0 7 5 2 6 1 3]\n",
            "[0 6 7 5 2 4 1 3]\n",
            "[6 0 7 5 2 4 1 3]\n",
            "[4 0 1 5 2 6 7 3]\n",
            "[4 0 7 5 2 6 1 3]\n",
            "[4 0 7 5 2 6 1 3]\n",
            "[4 2 7 5 0 6 1 3]\n",
            "[4 0 7 5 2 6 1 3]\n",
            "[4 0 7 5 2 6 1 3]\n",
            "[4 6 7 5 2 0 1 3]\n",
            "[4 0 7 5 2 6 1 3]\n",
            "[7 0 4 5 2 6 1 3]\n",
            "[1 0 7 5 2 6 4 3]\n",
            "[4 0 1 5 2 6 7 3]\n",
            "[0 4 7 5 2 6 1 3]\n",
            "[0 4 7 5 2 6 1 3]\n",
            "[0 4 7 1 2 6 5 3]\n",
            "[4 0 7 5 2 6 1 3]\n",
            "[7 0 4 5 2 6 1 3]\n",
            "[4 0 7 5 2 6 1 3]\n",
            "[4 0 7 3 2 6 1 5]\n",
            "[4 0 7 5 2 6 1 3]\n",
            "[7 0 4 5 2 6 1 3]\n",
            "[4 7 0 5 2 6 1 3]\n",
            "[4 0 7 3 2 6 1 5]\n",
            "[4 0 2 5 7 6 1 3]\n",
            "[0 2 7 5 4 6 1 3]\n",
            "[4 0 7 5 2 6 3 1]\n",
            "[4 5 7 0 2 6 1 3]\n",
            "[4 0 5 7 2 6 1 3]\n",
            "[4 0 7 5 2 1 6 3]\n",
            "[4 3 7 5 2 6 1 0]\n",
            "[6 4 7 5 2 0 1 3]\n",
            "[4 0 1 5 2 6 7 3]\n",
            "[0 4 7 5 2 6 1 3]\n",
            "[4 0 7 5 1 6 2 3]\n",
            "[6 0 7 5 2 4 1 3]\n",
            "[4 0 7 1 2 6 5 3]\n",
            "[4 0 7 6 2 5 1 3]\n",
            "[0 4 7 5 2 6 1 3]\n",
            "[4 0 7 5 2 3 1 6]\n",
            "[4 0 7 5 2 6 1 3]\n",
            "[0 3 7 5 2 6 1 4]\n",
            "[0 5 7 4 2 6 1 3]\n",
            "[4 0 7 5 2 1 6 3]\n",
            "[0 4 7 5 2 6 1 3]\n",
            "[4 0 5 7 2 6 1 3]\n",
            "[4 0 7 5 2 3 1 6]\n",
            "[0 4 7 5 2 6 1 3]\n",
            "[4 0 6 5 2 7 1 3]\n",
            "[0 4 7 6 2 5 1 3]\n",
            "[4 1 7 5 2 6 0 3]\n",
            "[2 0 7 5 4 6 1 3]\n"
          ],
          "name": "stdout"
        }
      ]
    }
  ]
}