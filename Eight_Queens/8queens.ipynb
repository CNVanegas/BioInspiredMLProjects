{
  "nbformat": 4,
  "nbformat_minor": 0,
  "metadata": {
    "colab": {
      "name": "8queens.ipynb",
      "provenance": [],
      "authorship_tag": "ABX9TyOX2brCJTVa9ciK9Sm/bf+1",
      "include_colab_link": true
    },
    "kernelspec": {
      "name": "python3",
      "display_name": "Python 3"
    },
    "language_info": {
      "name": "python"
    }
  },
  "cells": [
    {
      "cell_type": "markdown",
      "metadata": {
        "id": "view-in-github",
        "colab_type": "text"
      },
      "source": [
        "<a href=\"https://colab.research.google.com/github/ChristianVaughn/BioInspiredML/blob/main/Eight_Queens/8queens.ipynb\" target=\"_parent\"><img src=\"https://colab.research.google.com/assets/colab-badge.svg\" alt=\"Open In Colab\"/></a>"
      ]
    },
    {
      "cell_type": "code",
      "metadata": {
        "id": "i2NsZLMw4lMM"
      },
      "source": [
        "#print(Testing)"
      ],
      "execution_count": null,
      "outputs": []
    }
  ]
}