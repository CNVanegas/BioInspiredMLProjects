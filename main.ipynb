{
  "nbformat": 4,
  "nbformat_minor": 0,
  "metadata": {
    "colab": {
      "name": "Untitled0.ipynb",
      "provenance": [],
      "authorship_tag": "ABX9TyNhYfyt/42bt4/lwyKUu97d",
      "include_colab_link": true
    },
    "kernelspec": {
      "name": "python3",
      "display_name": "Python 3"
    }
  },
  "cells": [
    {
      "cell_type": "markdown",
      "metadata": {
        "id": "view-in-github",
        "colab_type": "text"
      },
      "source": [
        "<a href=\"https://colab.research.google.com/github/ChristianVaughn/BioInspiredML/blob/main/main.ipynb\" target=\"_parent\"><img src=\"https://colab.research.google.com/assets/colab-badge.svg\" alt=\"Open In Colab\"/></a>"
      ]
    },
    {
      "cell_type": "code",
      "metadata": {
        "colab": {
          "base_uri": "https://localhost:8080/"
        },
        "id": "CoTRuTDAfr7r",
        "outputId": "70b5dafd-49e8-4edf-c356-3439df0b4cb1"
      },
      "source": [
        "#create list of 50 random cities. Probably need to make this a 2d array with an x,y component. \r\n",
        "import random, numpy, math, copy, matplotlib.pyplot as plt\r\n",
        "cities = [random.sample(range(100), 2) for x in range(50)];\r\n",
        "#print(cities)\r\n",
        "tour = random.sample(range(50),50);\r\n",
        "print(tour)\r\n"
      ],
      "execution_count": 6,
      "outputs": [
        {
          "output_type": "stream",
          "text": [
            "[26, 27, 16, 11, 10, 5, 0, 33, 23, 32, 42, 49, 43, 22, 21, 8, 28, 6, 34, 17, 39, 37, 46, 1, 9, 3, 38, 19, 36, 48, 4, 12, 13, 15, 25, 14, 41, 45, 7, 29, 24, 31, 40, 20, 35, 30, 44, 2, 18, 47]\n"
          ],
          "name": "stdout"
        }
      ]
    },
    {
      "cell_type": "code",
      "metadata": {
        "id": "6GpIL_yzf7fo",
        "outputId": "bee5ea1b-dd23-46bc-da5b-35eabf5950ec",
        "colab": {
          "base_uri": "https://localhost:8080/"
        }
      },
      "source": [
        "#create list of 50 random cities. Probably need to make this a 2d array with an x,y component. \r\n",
        "import random, numpy, math, copy, matplotlib.pyplot as plt\r\n",
        "cities = [random.sample(range(100), 2) for x in range(50)];\r\n",
        "#print(cities)\r\n",
        "tour = random.sample(range(50),50);\r\n",
        "print(tour)\r\n"
      ],
      "execution_count": 7,
      "outputs": [
        {
          "output_type": "stream",
          "text": [
            "[46, 13, 28, 24, 34, 36, 41, 25, 26, 38, 43, 45, 1, 44, 0, 6, 4, 5, 12, 2, 16, 42, 48, 20, 8, 14, 23, 31, 18, 29, 9, 33, 7, 10, 3, 27, 32, 22, 49, 40, 17, 39, 37, 11, 35, 47, 21, 15, 30, 19]\n"
          ],
          "name": "stdout"
        }
      ]
    },
    {
      "cell_type": "code",
      "metadata": {
        "id": "w3eQHYT8hpeC",
        "outputId": "3d7ea966-02de-4cb8-c3e5-5c4aa1347e82",
        "colab": {
          "base_uri": "https://localhost:8080/"
        }
      },
      "source": [
        "#create list of 50 random cities. Probably need to make this a 2d array with an x,y component. \r\n",
        "import random, numpy, math, copy, matplotlib.pyplot as plt\r\n",
        "cities = [random.sample(range(100), 2) for x in range(50)];\r\n",
        "#print(cities)\r\n",
        "tour = random.sample(range(50),50);\r\n",
        "print(tour)\r\n"
      ],
      "execution_count": 8,
      "outputs": [
        {
          "output_type": "stream",
          "text": [
            "[42, 43, 23, 27, 9, 37, 6, 40, 26, 44, 16, 1, 13, 25, 14, 19, 28, 22, 47, 30, 7, 35, 48, 2, 24, 3, 21, 4, 39, 36, 11, 31, 15, 29, 17, 12, 46, 10, 49, 33, 8, 32, 5, 38, 18, 41, 0, 45, 34, 20]\n"
          ],
          "name": "stdout"
        }
      ]
    }
  ]
}