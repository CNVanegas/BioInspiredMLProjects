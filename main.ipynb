{
  "nbformat": 4,
  "nbformat_minor": 0,
  "metadata": {
    "colab": {
      "name": "main.ipynb",
      "provenance": [],
      "collapsed_sections": [],
      "toc_visible": true,
      "include_colab_link": true
    },
    "kernelspec": {
      "name": "python3",
      "display_name": "Python 3"
    }
  },
  "cells": [
    {
      "cell_type": "markdown",
      "metadata": {
        "id": "view-in-github",
        "colab_type": "text"
      },
      "source": [
        "<a href=\"https://colab.research.google.com/github/ChristianVaughn/BioInspiredML/blob/main/main.ipynb\" target=\"_parent\"><img src=\"https://colab.research.google.com/assets/colab-badge.svg\" alt=\"Open In Colab\"/></a>"
      ]
    },
    {
      "cell_type": "code",
      "metadata": {
        "colab": {
          "base_uri": "https://localhost:8080/"
        },
        "id": "CoTRuTDAfr7r",
        "outputId": "9b02d6f9-bcf2-4177-9ad7-f7cc67b8b412"
      },
      "source": [
        "import random, numpy as np, math, copy, matplotlib.pyplot as plt\r\n",
        "import pandas as pd\r\n",
        "from scipy.spatial import distance_matrix\r\n",
        "\r\n",
        "#create list of 50 random cities. Probably need to make this a 2d array with an x,y component. \r\n",
        "cities = [random.sample(range(100), 2) for x in range(50)];\r\n",
        "print(cities)\r\n",
        "\r\n",
        "#tour = random.sample(range(50),50);\r\n",
        "#print(tour)\r\n",
        "\r\n",
        "#Generate a distance matrix from the list of 50 cities\r\n",
        "df = pd.DataFrame(cities, columns=['xcord', 'ycord'])\r\n",
        "cities_distance_matrix = pd.DataFrame(distance_matrix(df.values, df.values), index=df.index, columns=df.index)\r\n",
        "#cities_distance_matrix.head()\r\n"
      ],
      "execution_count": 92,
      "outputs": [
        {
          "output_type": "stream",
          "text": [
            "[[80, 38], [74, 40], [10, 89], [11, 72], [62, 86], [59, 36], [42, 2], [37, 71], [99, 49], [47, 7], [28, 84], [58, 41], [10, 84], [11, 76], [96, 34], [81, 15], [65, 10], [30, 29], [65, 83], [72, 51], [32, 50], [77, 78], [39, 29], [38, 79], [28, 64], [52, 65], [26, 51], [57, 86], [12, 44], [53, 14], [53, 67], [40, 27], [87, 0], [17, 49], [16, 81], [47, 2], [65, 55], [11, 0], [5, 74], [13, 48], [0, 53], [30, 58], [70, 65], [89, 9], [87, 68], [98, 77], [6, 20], [79, 4], [63, 44], [88, 40]]\n"
          ],
          "name": "stdout"
        }
      ]
    },
    {
      "cell_type": "code",
      "metadata": {
        "id": "utNnrXiR4NvX"
      },
      "source": [
        "#Christian's code box. Start of ACO algo\r\n",
        "ants= 5\r\n",
        "pheromone_levels = [0,0]*50 #initialize pheromone levels all to 0 i think\r\n",
        "pheromone_maxtix = pd.DataFrame(0,index=range(50),columns=range(50))\r\n",
        "s_iter = []\r\n",
        "\r\n",
        "for i in range(ants):\r\n",
        "  s = []\r\n",
        "  possible_move_matrix = cities_distance_matrix.copy(deep=True) #do we need to remove the starting position?\r\n",
        "  #Determine N(s) N(s) considers the set of feasible components that can be appended to s restrict the set of traversable edges to the \r\n",
        "  #ones that connect the ants’ current node to \r\n",
        "  #unvisited nodes\r\n"
      ],
      "execution_count": null,
      "outputs": []
    },
    {
      "cell_type": "code",
      "metadata": {
        "id": "uat-Og8kpcK1"
      },
      "source": [
        "#Rolo's code box. Heuristic algo - nearest neighbor\r\n",
        "root = random.randint(0,49) #Randomly select one vertex as the root.\r\n",
        "currentlocation = root\r\n",
        "total = 0\r\n",
        "route = []\r\n",
        "citycopy = cities_distance_matrix.copy(deep=True)\r\n",
        "citycopy = citycopy.replace(0, np.NaN)\r\n",
        "route.append(currentlocation)\r\n",
        "for i in range(len(cities)-1):\r\n",
        "  nextlocation = citycopy[currentlocation].nsmallest(1,keep='first')\r\n",
        "  total += nextlocation.iloc[0]\r\n",
        "  route.append(nextlocation.index[0])\r\n",
        "  citycopy = citycopy.drop(currentlocation)\r\n",
        "  currentlocation = nextlocation.index[0]\r\n",
        "total += cities_distance_matrix.loc[currentlocation,root]\r\n",
        "route.append(root)\r\n",
        "    #Find the vertex that is closest (more precisely, has the lowest cost) to the current position but is not yet part of the route, and add it into the route.\r\n",
        "    #Repeat until the route includes each vertex."
      ],
      "execution_count": 93,
      "outputs": []
    },
    {
      "cell_type": "code",
      "metadata": {
        "colab": {
          "base_uri": "https://localhost:8080/"
        },
        "id": "fUa7-AuB9w03",
        "outputId": "6087c3c2-26ea-40e9-ef1c-f25df58d6a1f"
      },
      "source": [
        "print(route)"
      ],
      "execution_count": 94,
      "outputs": [
        {
          "output_type": "stream",
          "text": [
            "[40, 39, 28, 33, 26, 20, 41, 24, 7, 23, 10, 34, 12, 2, 13, 3, 38, 25, 30, 36, 19, 1, 0, 49, 14, 8, 44, 21, 18, 4, 27, 42, 48, 11, 5, 31, 22, 17, 46, 37, 6, 35, 9, 29, 16, 47, 32, 43, 15, 45, 40]\n"
          ],
          "name": "stdout"
        }
      ]
    }
  ]
}