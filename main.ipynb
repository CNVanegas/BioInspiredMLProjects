{
  "nbformat": 4,
  "nbformat_minor": 0,
  "metadata": {
    "colab": {
      "name": "main.ipynb",
      "provenance": [],
      "collapsed_sections": []
    },
    "kernelspec": {
      "name": "python3",
      "display_name": "Python 3"
    }
  },
  "cells": [
    {
      "cell_type": "code",
      "metadata": {
        "colab": {
          "base_uri": "https://localhost:8080/"
        },
        "id": "CoTRuTDAfr7r",
        "outputId": "b351005d-0898-4ced-d6d1-2b90a4ebadad"
      },
      "source": [
        "import random, numpy as np, math, copy, matplotlib.pyplot as plt\r\n",
        "import pandas as pd\r\n",
        "from scipy.spatial import distance_matrix\r\n",
        "\r\n",
        "#create list of 50 random cities. Probably need to make this a 2d array with an x,y component. \r\n",
        "cities = [random.sample(range(100), 2) for x in range(50)];\r\n",
        "print(cities)\r\n",
        "\r\n",
        "#tour = random.sample(range(50),50);\r\n",
        "#print(tour)\r\n",
        "\r\n",
        "#Generate a distance matrix from the list of 50 cities\r\n",
        "df = pd.DataFrame(cities, columns=['xcord', 'ycord'])\r\n",
        "cities_distance_matrix = pd.DataFrame(distance_matrix(df.values, df.values), index=df.index, columns=df.index)\r\n",
        "#cities_distance_matrix.head()\r\n"
      ],
      "execution_count": 79,
      "outputs": [
        {
          "output_type": "stream",
          "text": [
            "[[54, 79], [27, 75], [63, 34], [11, 81], [80, 17], [94, 90], [26, 32], [8, 5], [85, 47], [23, 85], [32, 86], [47, 11], [82, 96], [24, 6], [61, 73], [63, 96], [50, 95], [75, 52], [50, 58], [97, 24], [58, 57], [25, 29], [70, 87], [64, 76], [29, 94], [39, 6], [9, 8], [0, 40], [85, 6], [12, 21], [35, 72], [85, 70], [63, 48], [15, 0], [58, 57], [84, 89], [59, 60], [63, 30], [42, 76], [68, 50], [43, 45], [78, 16], [86, 60], [28, 93], [72, 40], [0, 3], [96, 50], [29, 26], [61, 96], [88, 33]]\n"
          ],
          "name": "stdout"
        }
      ]
    },
    {
      "cell_type": "code",
      "metadata": {
        "id": "utNnrXiR4NvX"
      },
      "source": [
        "#Christian's code box. Start of ACO algo\r\n",
        "ants= 5\r\n",
        "pheromone_levels = [0,0]*50 #initialize pheromone levels all to 0 i think\r\n",
        "pheromone_maxtix = pd.DataFrame(0,index=range(50),columns=range(50))\r\n",
        "s_iter = []\r\n",
        "\r\n",
        "for i in range(ants):\r\n",
        "  s = []\r\n",
        "  #Determine N(s) N(s) considers the set of feasible components that can be appended to s restrict the set of traversable edges to the \r\n",
        "  #ones that connect the ants’ current node to \r\n",
        "  #unvisited nodes\r\n"
      ],
      "execution_count": null,
      "outputs": []
    },
    {
      "cell_type": "code",
      "metadata": {
        "id": "uat-Og8kpcK1"
      },
      "source": [
        "#Rolo's code box. Heuristic algo - nearest neighbor\r\n",
        "root = random.randint(0,50) #Randomly select one vertex as the root.\r\n",
        "currentlocation = root\r\n",
        "total = 0\r\n",
        "route = []\r\n",
        "citycopy = cities_distance_matrix.copy(deep=True)\r\n",
        "citycopy = citycopy.replace(0, np.NaN)\r\n",
        "for i in range(len(cities)):\r\n",
        "  nextlocation = citycopy[currentlocation].nsmallest(1,keep='first')\r\n",
        "  total += nextlocation.iloc[0]\r\n",
        "  route.append(nextlocation.index[0])\r\n",
        "  currentlocation = nextlocation.index[0]\r\n",
        "  citycopy = citycopy.drop(currentlocation)\r\n",
        "    #Find the vertex that is closest (more precisely, has the lowest cost) to the current position but is not yet part of the route, and add it into the route.\r\n",
        "    #Repeat until the route includes each vertex."
      ],
      "execution_count": null,
      "outputs": []
    },
    {
      "cell_type": "code",
      "metadata": {
        "colab": {
          "base_uri": "https://localhost:8080/"
        },
        "id": "fUa7-AuB9w03",
        "outputId": "c4862015-8f50-45f1-d389-96eb4ca0e93d"
      },
      "source": [
        "print(route)"
      ],
      "execution_count": null,
      "outputs": [
        {
          "output_type": "stream",
          "text": [
            "[21, 12, 27, 6, 43, 47, 34, 1, 20, 25, 30, 8, 37, 4, 35, 33, 48, 41, 0, 2, 46, 29, 15, 49, 23, 38, 11, 13, 39, 24, 40, 45, 36, 9, 26, 3, 19, 44, 14, 31, 10, 32, 18, 22, 5, 28, 42, 16, 17, 7]\n"
          ],
          "name": "stdout"
        }
      ]
    }
  ]
}