{
  "nbformat": 4,
  "nbformat_minor": 0,
  "metadata": {
    "colab": {
      "name": "Untitled0.ipynb",
      "provenance": [],
      "include_colab_link": true
    },
    "kernelspec": {
      "name": "python3",
      "display_name": "Python 3"
    }
  },
  "cells": [
    {
      "cell_type": "markdown",
      "metadata": {
        "id": "view-in-github",
        "colab_type": "text"
      },
      "source": [
        "<a href=\"https://colab.research.google.com/github/ChristianVaughn/BioInspiredML/blob/main/main.ipynb\" target=\"_parent\"><img src=\"https://colab.research.google.com/assets/colab-badge.svg\" alt=\"Open In Colab\"/></a>"
      ]
    },
    {
      "cell_type": "code",
      "metadata": {
        "colab": {
          "base_uri": "https://localhost:8080/"
        },
        "id": "CoTRuTDAfr7r",
        "outputId": "56a2171e-5caa-4748-fd34-200932d0a440"
      },
      "source": [
        "#create list of 50 random cities. Probably need to make this a 2d array with an x,y component. \r\n",
        "import random, numpy, math, copy, matplotlib.pyplot as plt\r\n",
        "cities = [random.sample(range(100), 2) for x in range(50)];\r\n",
        "#print(cities)\r\n",
        "tour = random.sample(range(50),50);\r\n",
        "print(tour)\r\n"
      ],
      "execution_count": null,
      "outputs": [
        {
          "output_type": "stream",
          "text": [
            "[24, 3, 34, 21, 26, 16, 0, 17, 10, 23, 30, 48, 27, 13, 33, 7, 31, 20, 19, 11, 12, 40, 36, 46, 45, 47, 22, 2, 37, 18, 5, 8, 35, 25, 49, 29, 42, 43, 38, 6, 14, 32, 41, 9, 44, 1, 28, 15, 4, 39]\n"
          ],
          "name": "stdout"
        }
      ]
    },
    {
      "cell_type": "code",
      "metadata": {
        "id": "iAxiwYFsiSDw"
      },
      "source": [
        ""
      ],
      "execution_count": null,
      "outputs": []
    },
    {
      "cell_type": "markdown",
      "metadata": {
        "id": "Cf-Jpm8riSf1"
      },
      "source": [
        "TESTING IF THIS SAVES"
      ]
    },
    {
      "cell_type": "code",
      "metadata": {
        "id": "6GpIL_yzf7fo"
      },
      "source": [
        ""
      ],
      "execution_count": null,
      "outputs": []
    }
  ]
}