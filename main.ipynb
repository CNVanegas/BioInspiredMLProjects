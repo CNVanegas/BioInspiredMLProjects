{
  "nbformat": 4,
  "nbformat_minor": 0,
  "metadata": {
    "colab": {
      "name": "main.ipynb",
      "provenance": [],
      "collapsed_sections": [],
      "include_colab_link": true
    },
    "kernelspec": {
      "name": "python3",
      "display_name": "Python 3"
    }
  },
  "cells": [
    {
      "cell_type": "markdown",
      "metadata": {
        "id": "view-in-github",
        "colab_type": "text"
      },
      "source": [
        "<a href=\"https://colab.research.google.com/github/ChristianVaughn/BioInspiredML/blob/main/main.ipynb\" target=\"_parent\"><img src=\"https://colab.research.google.com/assets/colab-badge.svg\" alt=\"Open In Colab\"/></a>"
      ]
    },
    {
      "cell_type": "code",
      "metadata": {
        "colab": {
          "base_uri": "https://localhost:8080/"
        },
        "id": "CoTRuTDAfr7r",
        "outputId": "d2579b29-758a-49bf-ad4e-43b71c68e8ad"
      },
      "source": [
        "import random, numpy as np, math, copy, matplotlib.pyplot as plt\r\n",
        "import pandas as pd\r\n",
        "from scipy.spatial import distance_matrix\r\n",
        "\r\n",
        "#create list of 50 random cities. Probably need to make this a 2d array with an x,y component. \r\n",
        "cities = [random.sample(range(100), 2) for x in range(50)];\r\n",
        "print(cities)\r\n",
        "\r\n",
        "#tour = random.sample(range(50),50);\r\n",
        "#print(tour)\r\n",
        "\r\n",
        "#Generate a distance matrix from the list of 50 cities\r\n",
        "df = pd.DataFrame(cities, columns=['xcord', 'ycord'])\r\n",
        "cities_distance_matrix = pd.DataFrame(distance_matrix(df.values, df.values), index=df.index, columns=df.index)\r\n",
        "#cities_distance_matrix.head()\r\n",
        "\r\n",
        "#Randomly select a city to start at for both algorithms\r\n",
        "root = random.randint(0,49) #Randomly select one vertex as the root."
      ],
      "execution_count": 1,
      "outputs": [
        {
          "output_type": "stream",
          "text": [
            "[[34, 16], [31, 84], [75, 28], [56, 53], [99, 55], [14, 10], [44, 62], [55, 56], [38, 31], [18, 17], [58, 68], [11, 26], [12, 15], [31, 49], [52, 75], [62, 47], [60, 59], [90, 68], [35, 49], [0, 97], [40, 90], [92, 24], [69, 56], [7, 55], [50, 25], [15, 51], [18, 57], [74, 50], [22, 74], [28, 51], [95, 51], [37, 80], [53, 19], [33, 99], [50, 32], [72, 1], [49, 28], [34, 41], [92, 72], [92, 47], [82, 6], [19, 85], [86, 0], [16, 7], [7, 43], [37, 91], [80, 69], [56, 23], [65, 37], [57, 23]]\n"
          ],
          "name": "stdout"
        }
      ]
    },
    {
      "cell_type": "code",
      "metadata": {
        "id": "utNnrXiR4NvX"
      },
      "source": [
        "#Christian's code box. Start of ACO algo\r\n",
        "ants= 5\r\n",
        "pheromone_levels = [0,0]*50 #initialize pheromone levels all to 0 i think\r\n",
        "pheromone_maxtix = pd.DataFrame(0.0,index=range(50),columns=range(50))\r\n",
        "s_iter = []\r\n",
        "\r\n",
        "for i in range(ants):\r\n",
        "  currentlocation = root\r\n",
        "  s = []\r\n",
        "  possible_move_matrix = cities_distance_matrix.copy(deep=True) #do we need to remove the starting position?\r\n",
        "  cost = pd.DataFrame(possible_move_matrix, columns=[currentlocation])\r\n",
        "  phero = pd.DataFrame(pheromone_maxtix, columns=[currentlocation])\r\n",
        "  possible_move_matrix = possible_move_matrix.drop(currentlocation) #remove starting posotion from possible moves\r\n",
        "  #while len(possible_move_matrix) !=0:\r\n",
        "  cost_phero = pd.DataFrame(cost)\r\n",
        "  cost_phero['phero'] =  phero\r\n",
        "  cost_phero.columns = ['cost', 'phero']\r\n",
        "  cost_phero= cost_phero[cost_phero['cost'] != 0]\r\n",
        "  \r\n",
        "\r\n",
        "  \r\n"
      ],
      "execution_count": 17,
      "outputs": []
    },
    {
      "cell_type": "code",
      "metadata": {
        "colab": {
          "base_uri": "https://localhost:8080/",
          "height": 204
        },
        "id": "ezc9hUh7b6tl",
        "outputId": "f0f684ed-dfbf-4d37-f434-e14e2d052b57"
      },
      "source": [
        "cost_phero.head()"
      ],
      "execution_count": 18,
      "outputs": [
        {
          "output_type": "execute_result",
          "data": {
            "text/html": [
              "<div>\n",
              "<style scoped>\n",
              "    .dataframe tbody tr th:only-of-type {\n",
              "        vertical-align: middle;\n",
              "    }\n",
              "\n",
              "    .dataframe tbody tr th {\n",
              "        vertical-align: top;\n",
              "    }\n",
              "\n",
              "    .dataframe thead th {\n",
              "        text-align: right;\n",
              "    }\n",
              "</style>\n",
              "<table border=\"1\" class=\"dataframe\">\n",
              "  <thead>\n",
              "    <tr style=\"text-align: right;\">\n",
              "      <th></th>\n",
              "      <th>cost</th>\n",
              "      <th>phero</th>\n",
              "    </tr>\n",
              "  </thead>\n",
              "  <tbody>\n",
              "    <tr>\n",
              "      <th>0</th>\n",
              "      <td>75.802375</td>\n",
              "      <td>0.0</td>\n",
              "    </tr>\n",
              "    <tr>\n",
              "      <th>1</th>\n",
              "      <td>73.925638</td>\n",
              "      <td>0.0</td>\n",
              "    </tr>\n",
              "    <tr>\n",
              "      <th>2</th>\n",
              "      <td>36.124784</td>\n",
              "      <td>0.0</td>\n",
              "    </tr>\n",
              "    <tr>\n",
              "      <th>3</th>\n",
              "      <td>43.046487</td>\n",
              "      <td>0.0</td>\n",
              "    </tr>\n",
              "    <tr>\n",
              "      <th>5</th>\n",
              "      <td>96.176920</td>\n",
              "      <td>0.0</td>\n",
              "    </tr>\n",
              "  </tbody>\n",
              "</table>\n",
              "</div>"
            ],
            "text/plain": [
              "        cost  phero\n",
              "0  75.802375    0.0\n",
              "1  73.925638    0.0\n",
              "2  36.124784    0.0\n",
              "3  43.046487    0.0\n",
              "5  96.176920    0.0"
            ]
          },
          "metadata": {
            "tags": []
          },
          "execution_count": 18
        }
      ]
    },
    {
      "cell_type": "code",
      "metadata": {
        "id": "uat-Og8kpcK1"
      },
      "source": [
        "#Rolo's code box. Heuristic algo - nearest neighbor\r\n",
        "currentlocation = root\r\n",
        "total = 0\r\n",
        "route = []\r\n",
        "citycopy = cities_distance_matrix.copy(deep=True)\r\n",
        "citycopy = citycopy.replace(0, np.NaN)\r\n",
        "route.append(currentlocation)\r\n",
        "for i in range(len(cities)-1):\r\n",
        "  nextlocation = citycopy[currentlocation].nsmallest(1,keep='first')\r\n",
        "  total += nextlocation.iloc[0]\r\n",
        "  route.append(nextlocation.index[0])\r\n",
        "  citycopy = citycopy.drop(currentlocation)\r\n",
        "  currentlocation = nextlocation.index[0]\r\n",
        "total += cities_distance_matrix.loc[currentlocation,root]\r\n",
        "route.append(root)\r\n",
        "    #Find the vertex that is closest (more precisely, has the lowest cost) to the current position but is not yet part of the route, and add it into the route.\r\n",
        "    #Repeat until the route includes each vertex."
      ],
      "execution_count": 3,
      "outputs": []
    },
    {
      "cell_type": "code",
      "metadata": {
        "colab": {
          "base_uri": "https://localhost:8080/"
        },
        "id": "fUa7-AuB9w03",
        "outputId": "83e8a5e3-a49b-427a-cc84-d226cc9ac072"
      },
      "source": [
        "print(route)"
      ],
      "execution_count": 4,
      "outputs": [
        {
          "output_type": "stream",
          "text": [
            "[4, 30, 39, 27, 22, 16, 7, 3, 15, 48, 2, 21, 40, 42, 35, 32, 47, 49, 24, 36, 34, 8, 37, 18, 13, 29, 26, 25, 23, 44, 11, 12, 5, 43, 9, 0, 6, 10, 14, 31, 1, 45, 20, 33, 41, 28, 19, 46, 17, 38, 4]\n"
          ],
          "name": "stdout"
        }
      ]
    }
  ]
}