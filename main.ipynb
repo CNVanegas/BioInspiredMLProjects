{
  "nbformat": 4,
  "nbformat_minor": 0,
  "metadata": {
    "colab": {
      "name": "Untitled0.ipynb",
      "provenance": [],
      "authorship_tag": "ABX9TyOHYfSz4JkqNpRgcE9G1xiV",
      "include_colab_link": true
    },
    "kernelspec": {
      "name": "python3",
      "display_name": "Python 3"
    }
  },
  "cells": [
    {
      "cell_type": "markdown",
      "metadata": {
        "id": "view-in-github",
        "colab_type": "text"
      },
      "source": [
        "<a href=\"https://colab.research.google.com/github/ChristianVaughn/BioInspiredML/blob/main/main.ipynb\" target=\"_parent\"><img src=\"https://colab.research.google.com/assets/colab-badge.svg\" alt=\"Open In Colab\"/></a>"
      ]
    },
    {
      "cell_type": "code",
      "metadata": {
        "colab": {
          "base_uri": "https://localhost:8080/"
        },
        "id": "CoTRuTDAfr7r",
        "outputId": "2293099b-849c-4c50-d6b6-1bddb47b3c1c"
      },
      "source": [
        "#create list of 50 random cities. Probably need to make this a 2d array with an x,y component. \r\n",
        "import random, numpy, math, copy, matplotlib.pyplot as plt\r\n",
        "cities = [random.sample(range(100), 2) for x in range(50)];\r\n",
        "#print(cities)\r\n",
        "tour = random.sample(range(50),50);\r\n",
        "print(tour)\r\n"
      ],
      "execution_count": 4,
      "outputs": [
        {
          "output_type": "stream",
          "text": [
            "[31, 1, 9, 23, 10, 24, 46, 16, 8, 12, 34, 18, 35, 30, 6, 49, 0, 19, 21, 29, 42, 5, 14, 39, 17, 26, 43, 25, 48, 20, 37, 15, 41, 40, 3, 33, 47, 2, 28, 22, 36, 27, 4, 13, 44, 32, 7, 11, 38, 45]\n"
          ],
          "name": "stdout"
        }
      ]
    },
    {
      "cell_type": "code",
      "metadata": {
        "id": "6GpIL_yzf7fo",
        "outputId": "64177fce-e029-4cf4-d9bf-18cfc268fd99",
        "colab": {
          "base_uri": "https://localhost:8080/"
        }
      },
      "source": [
        "print(cities)"
      ],
      "execution_count": 5,
      "outputs": [
        {
          "output_type": "stream",
          "text": [
            "[[85, 84], [47, 81], [76, 48], [72, 91], [21, 65], [37, 54], [13, 19], [45, 39], [80, 14], [51, 95], [12, 72], [51, 73], [81, 19], [95, 70], [99, 22], [3, 38], [81, 13], [64, 25], [19, 51], [45, 34], [20, 27], [24, 67], [38, 26], [50, 15], [91, 18], [49, 11], [98, 66], [34, 45], [76, 23], [14, 88], [98, 79], [51, 20], [20, 74], [43, 73], [63, 83], [29, 99], [36, 56], [45, 8], [99, 37], [28, 14], [8, 89], [77, 46], [92, 98], [48, 0], [46, 80], [92, 27], [45, 50], [37, 58], [42, 16], [72, 65]]\n"
          ],
          "name": "stdout"
        }
      ]
    }
  ]
}